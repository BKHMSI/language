{
 "cells": [
  {
   "cell_type": "markdown",
   "metadata": {},
   "source": [
    "### Language brain-score example API usage notebook\n",
    "\n",
    "we will use this notebook as an end-user example of how LBS may be used, assuming most of the LBS functionality is already implemented (whereas it may not be).\n",
    "In the meantime, the LBS interface will implement placeholder mock methods that either return `NotImplemented`, or otherwise return mock values consistent with types and dimensionality of what we would expect."
   ]
  },
  {
   "cell_type": "markdown",
   "metadata": {},
   "source": [
    "Step 1 towards this direction is to create a mock dataset matching a real-world dataset in size and dimensionality."
   ]
  },
  {
   "cell_type": "markdown",
   "metadata": {},
   "source": [
    "## Generate mock dataset"
   ]
  },
  {
   "cell_type": "code",
   "execution_count": 1,
   "metadata": {},
   "outputs": [],
   "source": [
    "import numpy as np"
   ]
  },
  {
   "cell_type": "markdown",
   "metadata": {},
   "source": [
    "The Pereira (2018) [[pdf]](https://www.nature.com/articles/s41467-018-03068-4.pdf) [[data]](https://evlab.mit.edu/sites/default/files/documents/index2.html) [[supp OSF]](https://osf.io/crwz7/) dataset consists of `627 = (384 + 243)` stimuli"
   ]
  },
  {
   "cell_type": "code",
   "execution_count": 2,
   "metadata": {},
   "outputs": [
    {
     "name": "stdout",
     "output_type": "stream",
     "text": [
      "[[0.23155204 0.11057164 0.6666241  0.30420086 0.2103576 ]\n",
      " [0.96047531 0.41645043 0.50664239 0.24643677 0.96231829]\n",
      " [0.94900914 0.35849934 0.50397994 0.58011795 0.87096426]\n",
      " [0.18607884 0.06084626 0.72389155 0.71362688 0.41531549]\n",
      " [0.94437025 0.71091215 0.24287954 0.71237736 0.04157004]]\n"
     ]
    },
    {
     "data": {
      "text/plain": [
       "(627, 10000)"
      ]
     },
     "execution_count": 2,
     "metadata": {},
     "output_type": "execute_result"
    }
   ],
   "source": [
    "# define the size and dimensionality of mock data to create\n",
    "num_stimuli = 627\n",
    "num_neuroid = 10_000\n",
    "# now randomly generate the mock data\n",
    "recorded_data = np.random.rand(num_stimuli, num_neuroid)\n",
    "print(recorded_data[:5,:5])\n",
    "recorded_data.shape"
   ]
  },
  {
   "cell_type": "code",
   "execution_count": 3,
   "metadata": {},
   "outputs": [
    {
     "name": "stdout",
     "output_type": "stream",
     "text": [
      "627 ['tglqrpa', 'punqpik', 'joirgfp', 'gpzjzit'] ...\n"
     ]
    }
   ],
   "source": [
    "import random\n",
    "stimuli = [''.join(random.sample('abcdefghijklmnopqrstuvwxiz'*20, 7)) for _ in recorded_data]\n",
    "print(len(stimuli), stimuli[:4], '...')"
   ]
  },
  {
   "cell_type": "markdown",
   "metadata": {},
   "source": [
    "## Load Lbrainscore stuff"
   ]
  },
  {
   "cell_type": "code",
   "execution_count": 6,
   "metadata": {},
   "outputs": [
    {
     "name": "stdout",
     "output_type": "stream",
     "text": [
      "this cell has already been executed! skipping.\n"
     ]
    }
   ],
   "source": [
    "from pathlib import Path\n",
    "import os\n",
    "\n",
    "if '_path_fix_fuzzy_potato' in dir():\n",
    "    print('this cell has already been executed! skipping.')\n",
    "else:\n",
    "    # we should normally be in the same directory as this notebook\n",
    "    !pwd\n",
    "    assert 'examples' in str(Path('.').resolve()), 'must execute this cell and below while in the \"<lbs root>/examples\" directory'\n",
    "\n",
    "    # but we want to do the rest of the stuff from the parent directory, where the package langbrainscore is accessible\n",
    "    os.chdir('..')\n",
    "\n",
    "    # now verify that the package is in pwd\n",
    "    !pwd\n",
    "    print(*Path('.').resolve().glob('langbrainscore'))\n",
    "\n",
    "    _path_fix_fuzzy_potato = None"
   ]
  },
  {
   "cell_type": "code",
   "execution_count": 19,
   "metadata": {},
   "outputs": [],
   "source": [
    "%reload_ext autoreload\n",
    "%autoreload 2\n",
    "# import importlib\n",
    "\n",
    "import langbrainscore as lbs\n",
    "# importlib.reload('lbs')"
   ]
  },
  {
   "cell_type": "code",
   "execution_count": 20,
   "metadata": {},
   "outputs": [
    {
     "ename": "TypeError",
     "evalue": "Can't instantiate abstract class BrainEncoder with abstract methods encode",
     "output_type": "error",
     "traceback": [
      "\u001b[0;31m---------------------------------------------------------------------------\u001b[0m",
      "\u001b[0;31mTypeError\u001b[0m                                 Traceback (most recent call last)",
      "\u001b[0;32m/tmp/ipykernel_22528/205252329.py\u001b[0m in \u001b[0;36m<module>\u001b[0;34m\u001b[0m\n\u001b[0;32m----> 1\u001b[0;31m \u001b[0mmock_per_enc\u001b[0m \u001b[0;34m=\u001b[0m \u001b[0mlbs\u001b[0m\u001b[0;34m.\u001b[0m\u001b[0minterface\u001b[0m\u001b[0;34m.\u001b[0m\u001b[0mencoder\u001b[0m\u001b[0;34m.\u001b[0m\u001b[0mBrainEncoder\u001b[0m\u001b[0;34m(\u001b[0m\u001b[0;34m)\u001b[0m\u001b[0;34m\u001b[0m\u001b[0;34m\u001b[0m\u001b[0m\n\u001b[0m",
      "\u001b[0;31mTypeError\u001b[0m: Can't instantiate abstract class BrainEncoder with abstract methods encode"
     ]
    }
   ],
   "source": [
    "mock_per_enc = lbs.interface.encoder.BrainEncoder()"
   ]
  }
 ],
 "metadata": {
  "interpreter": {
   "hash": "4b8a49c78ed430011687fad89d94d66b34fc104da0a0fbd2667d141a88df4d76"
  },
  "kernelspec": {
   "display_name": "Python 3.8.10 64-bit ('lbsfuzpot': conda)",
   "name": "python3"
  },
  "language_info": {
   "codemirror_mode": {
    "name": "ipython",
    "version": 3
   },
   "file_extension": ".py",
   "mimetype": "text/x-python",
   "name": "python",
   "nbconvert_exporter": "python",
   "pygments_lexer": "ipython3",
   "version": "3.8.10"
  },
  "orig_nbformat": 4
 },
 "nbformat": 4,
 "nbformat_minor": 2
}
